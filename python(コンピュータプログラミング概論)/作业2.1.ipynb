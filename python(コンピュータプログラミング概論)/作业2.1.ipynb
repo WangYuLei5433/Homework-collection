{
 "cells": [
  {
   "cell_type": "code",
   "execution_count": 5,
   "metadata": {},
   "outputs": [
    {
     "name": "stdout",
     "output_type": "stream",
     "text": [
      "[7, 15, 29, 31, 39, 42, 57, 64, 67]\n"
     ]
    }
   ],
   "source": [
    "Test_date= [31, 57, 29, 67, 15,7,42,39,64] \n",
    "\n",
    "def pai_xu(list_date):\n",
    "    for i in range(len(list_date)): \n",
    "\n",
    "        Mini_mum = i \n",
    "        for j in range(i+1, len(list_date)): \n",
    "            if list_date[ Mini_mum] >list_date[j]: \n",
    "                 Mini_mum= j\n",
    "\n",
    "        list_date[i], list_date[Mini_mum] = list_date[Mini_mum], list_date[i] \n",
    "        \n",
    "    print(list_date)\n",
    "    \n",
    "pai_xu(Test_date) "
   ]
  }
 ],
 "metadata": {
  "kernelspec": {
   "display_name": "Python 3 (ipykernel)",
   "language": "python",
   "name": "python3"
  },
  "language_info": {
   "codemirror_mode": {
    "name": "ipython",
    "version": 3
   },
   "file_extension": ".py",
   "mimetype": "text/x-python",
   "name": "python",
   "nbconvert_exporter": "python",
   "pygments_lexer": "ipython3",
   "version": "3.9.5"
  }
 },
 "nbformat": 4,
 "nbformat_minor": 4
}
