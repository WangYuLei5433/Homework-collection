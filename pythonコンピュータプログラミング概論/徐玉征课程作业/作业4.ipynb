{
 "cells": [
  {
   "cell_type": "code",
   "execution_count": 55,
   "metadata": {},
   "outputs": [
    {
     "name": "stdout",
     "output_type": "stream",
     "text": [
      "有水果 23 不是水果 11\n"
     ]
    }
   ],
   "source": [
    "#计算水果个数\n",
    "basket = {'apples': 4, 'oranges': 19, 'kites': 3, 'sandwiches': 8}\n",
    "fruits = ['apples', 'oranges', 'pears', 'peaches', 'grapes', 'bananas']\n",
    "basketkey=list(basket.keys())\n",
    "fruit=0\n",
    "sum=0\n",
    "for i in range(len(basketkey)):\n",
    "    sum = sum + basket[basketkey[i]] \n",
    "    for j in range(len(fruits)):\n",
    "        if (basketkey[i]==fruits[j]):\n",
    "            fruit+=basket[basketkey[i]] \n",
    "            \n",
    "print('有水果',fruit,'不是水果',sum-fruit)"
   ]
  },
  {
   "cell_type": "code",
   "execution_count": 56,
   "metadata": {},
   "outputs": [
    {
     "name": "stdout",
     "output_type": "stream",
     "text": [
      "1\n",
      "2\n",
      "3\n",
      "4\n",
      "5\n"
     ]
    }
   ],
   "source": [
    " #用for输出1到5。\n",
    " for i in range(1,6):\n",
    "     print(i)"
   ]
  },
  {
   "cell_type": "code",
   "execution_count": 57,
   "metadata": {},
   "outputs": [
    {
     "name": "stdout",
     "output_type": "stream",
     "text": [
      "[1, 2, 3, 4, 5]\n"
     ]
    }
   ],
   "source": [
    "#用for生成一个由数字1到5构成的list。\n",
    "date=list()\n",
    "for i in range(1,6):\n",
    "    date.append(i)\n",
    "print(date)"
   ]
  },
  {
   "cell_type": "code",
   "execution_count": 58,
   "metadata": {},
   "outputs": [
    {
     "name": "stdout",
     "output_type": "stream",
     "text": [
      "0\n",
      "3\n",
      "6\n",
      "9\n",
      "12\n",
      "15\n",
      "18\n",
      "21\n",
      "24\n",
      "27\n",
      "30\n",
      "33\n"
     ]
    }
   ],
   "source": [
    "#用for从0开始输出3的倍数i，直到i大于30。\n",
    "for i in range(0,34,3):\n",
    "    print(i)"
   ]
  },
  {
   "cell_type": "code",
   "execution_count": 47,
   "metadata": {},
   "outputs": [
    {
     "name": "stdout",
     "output_type": "stream",
     "text": [
      "1275\n"
     ]
    }
   ],
   "source": [
    "#计算1到50的和。\n",
    "sum1=0\n",
    "for i in range(1,51):\n",
    "    sum1+=i\n",
    "print(sum1)"
   ]
  },
  {
   "cell_type": "code",
   "execution_count": 59,
   "metadata": {},
   "outputs": [
    {
     "name": "stdout",
     "output_type": "stream",
     "text": [
      "['Kamigyo ku', 'Nakagyo ku', 'Sakyo ku']\n"
     ]
    }
   ],
   "source": [
    "#写一个for，把下面的places里的每个词的第一字母改成大写，如new_places这样\n",
    "places = [\"kamigyo ku\",\"nakagyo ku\", \"sakyo ku\"]\n",
    "new_places = []\n",
    "for i in range(0,len(places)):\n",
    "    new_places.append(places[i].capitalize())\n",
    "\n",
    "print(new_places)\n",
    "\n"
   ]
  },
  {
   "cell_type": "code",
   "execution_count": 65,
   "metadata": {},
   "outputs": [
    {
     "name": "stdout",
     "output_type": "stream",
     "text": [
      "1\n",
      "2\n",
      "3\n",
      "4\n",
      "5\n",
      "6\n",
      "7\n",
      "8\n",
      "9\n",
      "10\n"
     ]
    }
   ],
   "source": [
    "#用while输出1到10。\n",
    "i=1\n",
    "while i<11:\n",
    "    print(i)\n",
    "    i+=1"
   ]
  },
  {
   "cell_type": "code",
   "execution_count": 71,
   "metadata": {},
   "outputs": [
    {
     "name": "stdout",
     "output_type": "stream",
     "text": [
      "55\n"
     ]
    }
   ],
   "source": [
    "#用while计算1到10的和。\n",
    "i=1\n",
    "k=0\n",
    "while i<11:\n",
    "    k+=i\n",
    "    i+=1\n",
    "print(k)"
   ]
  },
  {
   "cell_type": "code",
   "execution_count": 126,
   "metadata": {},
   "outputs": [
    {
     "name": "stdout",
     "output_type": "stream",
     "text": [
      "441\n"
     ]
    }
   ],
   "source": [
    "#找出距离一个数N的最近的平方数S\n",
    "n=int(input())\n",
    "k=n\n",
    "def searchNumber(Num,distance):\n",
    "    while(Num>0):\n",
    "        Num=Num+distance\n",
    "        Square_number=Num\n",
    "        Square_number=Square_number**0.5\n",
    "        Square_number=Square_number-int(Square_number)\n",
    "        if(Num<0):\n",
    "            break\n",
    "        elif(Square_number==0):\n",
    "            return Num\n",
    "leftnumber=searchNumber(n,-1)\n",
    "rightnumber=searchNumber(n,1)\n",
    "if(k-leftnumber<rightnumber-k):\n",
    "    print(leftnumber)\n",
    "else:\n",
    "    print(rightnumber)\n"
   ]
  },
  {
   "cell_type": "code",
   "execution_count": 104,
   "metadata": {},
   "outputs": [
    {
     "name": "stdout",
     "output_type": "stream",
     "text": [
      "2468101214161820\n"
     ]
    }
   ],
   "source": [
    "# 建立一个string，包含了20内的所有奇数，要用到continue\n",
    "abc=str()\n",
    "for i in range(1,21):\n",
    "    if(i%2==1):\n",
    "        continue\n",
    "    else:\n",
    "        abc+=str(i)\n",
    "print(abc)"
   ]
  },
  {
   "cell_type": "code",
   "execution_count": 125,
   "metadata": {},
   "outputs": [
    {
     "name": "stdout",
     "output_type": "stream",
     "text": [
      "Deep learning architectures such as deep neural networks, deep belief networks, recurrent neural networks and convolutional neural networks have been a\n"
     ]
    }
   ],
   "source": [
    "# 从下列的名为paragraph的string中生成一个新的string。新的string中刚好有paragraph的前150个字符，要用break。可以用到下面这个string\n",
    "paragraph = \"Deep learning architectures such as deep neural networks, deep belief networks, recurrent neural networks and convolutional neural networks have been applied to fields including computer vision, speech recognition, natural language processing, audio recognition, social network filtering, machine translation, bioinformatics, drug design, medical image analysis, material inspection and board game programs, where they have produced results comparable to and in some cases superior to human experts.\"\n",
    "paragraphMini=str()\n",
    "for i in range(len(paragraph)):\n",
    "    paragraphMini+=paragraph[i]\n",
    "    if (i==150):\n",
    "        break\n",
    "print(paragraphMini)"
   ]
  }
 ],
 "metadata": {
  "interpreter": {
   "hash": "da9ccaf30b8f76f6ba9387769e0a5b8166bb243c2c98e845e33e1556a317dac0"
  },
  "kernelspec": {
   "display_name": "Python 3.9.5 64-bit ('base': conda)",
   "name": "python3"
  },
  "language_info": {
   "codemirror_mode": {
    "name": "ipython",
    "version": 3
   },
   "file_extension": ".py",
   "mimetype": "text/x-python",
   "name": "python",
   "nbconvert_exporter": "python",
   "pygments_lexer": "ipython3",
   "version": "3.9.5"
  },
  "orig_nbformat": 4
 },
 "nbformat": 4,
 "nbformat_minor": 2
}
