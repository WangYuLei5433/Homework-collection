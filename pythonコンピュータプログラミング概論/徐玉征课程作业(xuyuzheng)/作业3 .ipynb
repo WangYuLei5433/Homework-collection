{
 "cells": [
  {
   "cell_type": "code",
   "execution_count": 23,
   "metadata": {},
   "outputs": [
    {
     "name": "stdout",
     "output_type": "stream",
     "text": [
      "4\n"
     ]
    }
   ],
   "source": [
    "L=[4,6,8,9,]\n",
    "a=[13,20,17,]\n",
    "print(len(L))"
   ]
  },
  {
   "cell_type": "code",
   "execution_count": 22,
   "metadata": {},
   "outputs": [
    {
     "name": "stdout",
     "output_type": "stream",
     "text": [
      "[4, 6, 8, 9, 11]\n",
      "[4, 6, 8, 9, 11, 13, 17, 20]\n"
     ]
    }
   ],
   "source": [
    "L.append(11)\n",
    "print(L)\n",
    "L.extend(a)\n",
    "L.sort()\n",
    "print(L)"
   ]
  },
  {
   "cell_type": "code",
   "execution_count": 49,
   "metadata": {},
   "outputs": [
    {
     "name": "stdout",
     "output_type": "stream",
     "text": [
      "4\n",
      "9 11\n",
      "[4, 6, 8]\n",
      "[9, 11]\n",
      "[4, 8, 11]\n",
      "[11, 8, 4]\n",
      "[50, 22, 33, 44, 11]\n",
      "[11, 44, 33, 22, 50]\n"
     ]
    }
   ],
   "source": [
    "B=[4,6,8,9,11,]\n",
    "print(B[0])\n",
    "print(B[3],B[-1])\n",
    "print(B[0:3])\n",
    "print(B[-2:])\n",
    "print(B[::2])\n",
    "print(B[::-2])\n",
    "B[0:4]=[50,22,33,44]\n",
    "print(B)\n",
    "B.reverse()\n",
    "print(B)"
   ]
  },
  {
   "cell_type": "code",
   "execution_count": 47,
   "metadata": {},
   "outputs": [
    {
     "name": "stdout",
     "output_type": "stream",
     "text": [
      "3\n",
      "4\n"
     ]
    }
   ],
   "source": [
    "C=(4,9,10)\n",
    "print(len(C))\n",
    "print(C[0])\n",
    "#C[0]=1 无法给元组赋值\n",
    "#C[-1]=1 无法给元组赋值"
   ]
  },
  {
   "cell_type": "code",
   "execution_count": 61,
   "metadata": {},
   "outputs": [
    {
     "name": "stdout",
     "output_type": "stream",
     "text": [
      "{1, 2, 3, 5, 6, 8, 9, 10}\n",
      "{1, 2}\n",
      "{8, 9, 5}\n",
      "{3, 5, 6, 8, 9, 10}\n"
     ]
    }
   ],
   "source": [
    "A=[1,1,2,5,5,5,8,8,9,]\n",
    "B_=[1,2,2,3,3,3,6,10,]\n",
    "Aset=set(A)\n",
    "Bset=set(B_)\n",
    "print(Aset|Bset)\n",
    "print(Aset&Bset)\n",
    "print(Aset-Bset)\n",
    "print((Aset|Bset)-(Aset&Bset))\n"
   ]
  },
  {
   "cell_type": "code",
   "execution_count": 62,
   "metadata": {},
   "outputs": [
    {
     "name": "stdout",
     "output_type": "stream",
     "text": [
      "two\n",
      "10\n",
      "None\n",
      "['eight', 'eleven', 'five', 'four', 'nine', 'one', 'seven', 'six', 'ten', 'three', 'two']\n",
      "eight two\n",
      "[1, 2, 3, 4, 5, 6, 7, 8, 9, 10, 11]\n",
      "1\n",
      "9\n"
     ]
    }
   ],
   "source": [
    "numbers={'one':1,'two':2,'three':3,'four':4,'five':5,'six':6,'seven':7,'eight':8,'nine':9,'ten':10,}\n",
    "number_key=list(numbers.keys())\n",
    "print(number_key[1])\n",
    "print(len(numbers))\n",
    "print(numbers.get('eleven'))\n",
    "numbers['eleven']=11\n",
    "number_key=list(numbers.keys())\n",
    "number_key.sort()\n",
    "print(number_key)\n",
    "print(number_key[0],number_key[-1])\n",
    "number_value=list(numbers.values())\n",
    "number_value.sort()\n",
    "print(number_value)\n",
    "print(number_value[0])\n",
    "print(numbers.get('nine'))"
   ]
  },
  {
   "cell_type": "code",
   "execution_count": null,
   "metadata": {},
   "outputs": [],
   "source": []
  }
 ],
 "metadata": {
  "kernelspec": {
   "display_name": "Python 3 (ipykernel)",
   "language": "python",
   "name": "python3"
  },
  "language_info": {
   "codemirror_mode": {
    "name": "ipython",
    "version": 3
   },
   "file_extension": ".py",
   "mimetype": "text/x-python",
   "name": "python",
   "nbconvert_exporter": "python",
   "pygments_lexer": "ipython3",
   "version": "3.9.5"
  }
 },
 "nbformat": 4,
 "nbformat_minor": 4
}
