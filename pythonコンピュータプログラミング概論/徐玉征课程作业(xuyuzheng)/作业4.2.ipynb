{
 "cells": [
  {
   "cell_type": "code",
   "execution_count": 1,
   "metadata": {},
   "outputs": [
    {
     "data": {
      "text/plain": [
       "[7, 15, 29, 31, 39, 42, 57, 64, 67]"
      ]
     },
     "execution_count": 1,
     "metadata": {},
     "output_type": "execute_result"
    }
   ],
   "source": [
    "#从小到大输出\n",
    "Test_date= [31, 57, 29, 67, 15,7,42,39,64] \n",
    "\n",
    "def select_sort(list_date):\n",
    "    for i in range(len(list_date)): \n",
    "        Mini_mum = i \n",
    "        for j in range(i+1, len(list_date)): \n",
    "            if list_date[ Mini_mum] >list_date[j]: \n",
    "                 Mini_mum= j\n",
    "\n",
    "        list_date[i], list_date[Mini_mum] = list_date[Mini_mum], list_date[i] \n",
    "          \n",
    "    sorted_numbers=list_date\n",
    "    return sorted_numbers\n",
    "    \n",
    "select_sort(Test_date) "
   ]
  }
 ],
 "metadata": {
  "interpreter": {
   "hash": "da9ccaf30b8f76f6ba9387769e0a5b8166bb243c2c98e845e33e1556a317dac0"
  },
  "kernelspec": {
   "display_name": "Python 3.9.5 64-bit ('base': conda)",
   "name": "python3"
  },
  "language_info": {
   "codemirror_mode": {
    "name": "ipython",
    "version": 3
   },
   "file_extension": ".py",
   "mimetype": "text/x-python",
   "name": "python",
   "nbconvert_exporter": "python",
   "pygments_lexer": "ipython3",
   "version": "3.9.5"
  },
  "orig_nbformat": 4
 },
 "nbformat": 4,
 "nbformat_minor": 2
}
