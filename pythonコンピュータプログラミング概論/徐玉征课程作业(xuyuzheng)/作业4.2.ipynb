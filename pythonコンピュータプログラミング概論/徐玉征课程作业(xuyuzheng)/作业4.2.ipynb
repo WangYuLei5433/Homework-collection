{
 "cells": [
  {
   "cell_type": "code",
   "execution_count": null,
   "metadata": {},
   "outputs": [],
   "source": [
    "#从小到大输出\n",
    "Test_date= [31, 57, 29, 67, 15,7,42,39,64] \n",
    "\n",
    "def select_sort(list_date):\n",
    "    for i in range(len(list_date)): \n",
    "        Mini_mum = i \n",
    "        for j in range(i+1, len(list_date)): \n",
    "            if list_date[ Mini_mum] >list_date[j]: \n",
    "                 Mini_mum= j\n",
    "\n",
    "        list_date[i], list_date[Mini_mum] = list_date[Mini_mum], list_date[i] \n",
    "          \n",
    "    sorted_numbers=list_date\n",
    "    return sorted_numbers\n",
    "    \n",
    "select_sort(Test_date) "
   ]
  }
 ],
 "metadata": {
  "language_info": {
   "name": "python"
  },
  "orig_nbformat": 4
 },
 "nbformat": 4,
 "nbformat_minor": 2
}
