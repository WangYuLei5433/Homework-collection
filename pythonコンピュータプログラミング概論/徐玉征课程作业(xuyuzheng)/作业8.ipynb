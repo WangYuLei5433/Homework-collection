{
 "cells": [
  {
   "cell_type": "code",
   "execution_count": 14,
   "metadata": {},
   "outputs": [
    {
     "name": "stdout",
     "output_type": "stream",
     "text": [
      "stack为空\n",
      "[3, 13]\n",
      "13\n",
      "stack不为空\n"
     ]
    }
   ],
   "source": [
    "class stack:\n",
    "    def __init__(self):\n",
    "        self.L=list()\n",
    "    def push(self,num):\n",
    "        self.L.append(num)\n",
    "    def pop(self):\n",
    "        x=self.L.pop()\n",
    "        return x\n",
    "    def is_emputy(self):\n",
    "        if(len(self.L)==False):\n",
    "            print(\"stack为空\")\n",
    "        else:\n",
    "            print(\"stack不为空\")\n",
    "\n",
    "ab=stack()\n",
    "ab.is_emputy()\n",
    "ab.push(3)\n",
    "ab.push(13)\n",
    "print(ab.L)\n",
    "print(ab.pop())\n",
    "ab.is_emputy()\n",
    "\n"
   ]
  },
  {
   "cell_type": "code",
   "execution_count": 11,
   "metadata": {},
   "outputs": [
    {
     "name": "stdout",
     "output_type": "stream",
     "text": [
      "[2, 1, 3]\n",
      "3\n",
      "3\n",
      "[2, 1]\n"
     ]
    }
   ],
   "source": [
    "class queue:\n",
    "    def __init__(self):\n",
    "        self.L=list()\n",
    "    def push(self,num):\n",
    "        self.L.append(num)\n",
    "    def pop(self):\n",
    "        x=self.L.pop(-1)\n",
    "        return x\n",
    "    def peek(self):\n",
    "        print(self.L[-1])\n",
    "    def is_emputy(self):\n",
    "        if(len(self.L)==False):\n",
    "            print(\"queue\")\n",
    "        else:\n",
    "            print(\"queue不为空\")\n",
    "\n",
    "ab=queue()\n",
    "ab.push(2)\n",
    "ab.push(1)\n",
    "ab.push(3)\n",
    "print(ab.L)\n",
    "ab.peek()\n",
    "print(ab.pop())\n",
    "print(ab.L)"
   ]
  }
 ],
 "metadata": {
  "interpreter": {
   "hash": "da9ccaf30b8f76f6ba9387769e0a5b8166bb243c2c98e845e33e1556a317dac0"
  },
  "kernelspec": {
   "display_name": "Python 3.9.5 64-bit ('base': conda)",
   "language": "python",
   "name": "python3"
  },
  "language_info": {
   "codemirror_mode": {
    "name": "ipython",
    "version": 3
   },
   "file_extension": ".py",
   "mimetype": "text/x-python",
   "name": "python",
   "nbconvert_exporter": "python",
   "pygments_lexer": "ipython3",
   "version": "3.9.5"
  },
  "orig_nbformat": 4
 },
 "nbformat": 4,
 "nbformat_minor": 2
}
