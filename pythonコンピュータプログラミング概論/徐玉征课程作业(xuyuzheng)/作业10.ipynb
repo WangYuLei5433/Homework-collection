{
 "cells": [
  {
   "cell_type": "code",
   "execution_count": 1,
   "metadata": {},
   "outputs": [
    {
     "name": "stdout",
     "output_type": "stream",
     "text": [
      "40\n"
     ]
    }
   ],
   "source": [
    "import numpy as np\n",
    "from datetime import datetime \n",
    "s1=1000\n",
    "s2=200\n",
    "s3=300\n",
    "m1 = np.zeros((s1,s2))\n",
    "m2 = np.zeros((s2,s3))\n",
    "m3 = np.zeros((s1,s3))\n",
    "a=datetime.now() \n",
    "for i in range(s1):\n",
    "    for j in range(s3):\n",
    "        r=m3[i][j]\n",
    "        for k in range(s2):\n",
    "            r+= m1[i][k]*m2[k][j]\n",
    "b=datetime.now() \n",
    "\n",
    "print((b-a).seconds)"
   ]
  }
 ],
 "metadata": {
  "interpreter": {
   "hash": "da9ccaf30b8f76f6ba9387769e0a5b8166bb243c2c98e845e33e1556a317dac0"
  },
  "kernelspec": {
   "display_name": "Python 3.9.5 64-bit ('base': conda)",
   "language": "python",
   "name": "python3"
  },
  "language_info": {
   "codemirror_mode": {
    "name": "ipython",
    "version": 3
   },
   "file_extension": ".py",
   "mimetype": "text/x-python",
   "name": "python",
   "nbconvert_exporter": "python",
   "pygments_lexer": "ipython3",
   "version": "3.9.5"
  },
  "orig_nbformat": 4
 },
 "nbformat": 4,
 "nbformat_minor": 2
}
