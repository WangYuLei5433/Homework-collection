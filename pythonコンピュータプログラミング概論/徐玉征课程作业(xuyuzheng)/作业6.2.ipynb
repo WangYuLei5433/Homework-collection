{
 "cells": [
  {
   "cell_type": "code",
   "execution_count": 40,
   "metadata": {},
   "outputs": [],
   "source": [
    "import random,time\n",
    "#选择排序\n",
    "def pai_xu(list_date):\n",
    "    for i in range(len(list_date)): \n",
    "        Mini_mum = i \n",
    "        for j in range(i+1, len(list_date)): \n",
    "            if list_date[ Mini_mum] >list_date[j]: \n",
    "                 Mini_mum= j\n",
    "\n",
    "        list_date[i], list_date[Mini_mum] = list_date[Mini_mum], list_date[i] \n",
    "\n",
    "#将生成的随机数导入到数列中\n",
    "def test(left,right,quantity):\n",
    "    text_list=list(random.sample(range(left,right),quantity))\n",
    "    return text_list\n",
    "    \n",
    "#计算排序算法的时间\n",
    "def timerun(text):\n",
    "    start = time.time()\n",
    "    pai_xu(text)\n",
    "    end=time.time()\n",
    "    print(end-start)\n",
    "\n",
    "l1=test(1,5005,5000)\n",
    "l2=test(1,10005,10000)\n",
    "l3=test(1,20005,20000)\n",
    "l4=test(1,40005,40000)\n"
   ]
  },
  {
   "cell_type": "code",
   "execution_count": 41,
   "metadata": {},
   "outputs": [
    {
     "name": "stdout",
     "output_type": "stream",
     "text": [
      "1.111948013305664\n"
     ]
    }
   ],
   "source": [
    "timerun(l1)"
   ]
  },
  {
   "cell_type": "code",
   "execution_count": 42,
   "metadata": {},
   "outputs": [
    {
     "name": "stdout",
     "output_type": "stream",
     "text": [
      "4.37908673286438\n"
     ]
    }
   ],
   "source": [
    "timerun(l2)"
   ]
  },
  {
   "cell_type": "code",
   "execution_count": 43,
   "metadata": {},
   "outputs": [
    {
     "name": "stdout",
     "output_type": "stream",
     "text": [
      "17.64274835586548\n"
     ]
    }
   ],
   "source": [
    "timerun(l3)"
   ]
  },
  {
   "cell_type": "code",
   "execution_count": 44,
   "metadata": {},
   "outputs": [
    {
     "name": "stdout",
     "output_type": "stream",
     "text": [
      "70.73629689216614\n"
     ]
    }
   ],
   "source": [
    "timerun(l4)\n",
    "\"\"\"\n",
    "发现：随着数据数量的增加，运行时间成指数增长。因为有两个for循环，所以时间复杂度为O(n^2)。\n",
    "最好情况和最坏情况都需要遍历数列内全部数字。所以平均时间复杂度和其他两种情况相同都为O(n^2)。\n",
    "\"\"\""
   ]
  }
 ],
 "metadata": {
  "interpreter": {
   "hash": "da9ccaf30b8f76f6ba9387769e0a5b8166bb243c2c98e845e33e1556a317dac0"
  },
  "kernelspec": {
   "display_name": "Python 3.9.5 64-bit ('base': conda)",
   "language": "python",
   "name": "python3"
  },
  "language_info": {
   "codemirror_mode": {
    "name": "ipython",
    "version": 3
   },
   "file_extension": ".py",
   "mimetype": "text/x-python",
   "name": "python",
   "nbconvert_exporter": "python",
   "pygments_lexer": "ipython3",
   "version": "3.9.5"
  },
  "orig_nbformat": 4
 },
 "nbformat": 4,
 "nbformat_minor": 2
}
