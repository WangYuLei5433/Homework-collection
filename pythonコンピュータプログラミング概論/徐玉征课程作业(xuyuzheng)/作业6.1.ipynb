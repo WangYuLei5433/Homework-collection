{
 "cells": [
  {
   "cell_type": "code",
   "execution_count": 178,
   "metadata": {},
   "outputs": [
    {
     "name": "stdout",
     "output_type": "stream",
     "text": [
      "姓名wangyulei 年龄25 学习状态False\n",
      "姓名wangyulei 年龄25 学习状态True\n"
     ]
    }
   ],
   "source": [
    "\"\"\"\n",
    "1.创建一个叫做student的类，它需要有name和age两个属性\n",
    "2.用student类创建一个实例，用你的名字和年龄初始化\n",
    "3.创建一个叫做study的方法和一个叫做learning的属性，每次执行study，learning的值会在True和False之间转换。\n",
    "\"\"\"\n",
    "class Student:\n",
    "    def __init__(self,name,age):\n",
    "        self.name=name\n",
    "        self.age=age\n",
    "        self.learning=bool()\n",
    "    def study(self):\n",
    "        if(self.learning==True):\n",
    "            self.learning=False\n",
    "        else:\n",
    "            self.learning=True\n",
    "        return self.learning\n",
    "def print_object(Date):\n",
    "    print(\"姓名{} 年龄{} 学习状态{}\".format(Date.name,Date.age,Date.learning))\n",
    "\n",
    "wyl=Student('wangyulei',25)\n",
    "print_object(wyl)\n",
    "wyl.study()\n",
    "print_object(wyl)\n",
    "\n",
    "\n",
    "\n",
    "\n"
   ]
  },
  {
   "cell_type": "code",
   "execution_count": 179,
   "metadata": {},
   "outputs": [
    {
     "name": "stdout",
     "output_type": "stream",
     "text": [
      "姓名fengyu 年龄23 学习状态False\n",
      "姓名fengyu 年龄24 学习状态True\n"
     ]
    }
   ],
   "source": [
    "\"\"\"\n",
    "1.创建一个叫做graduated的类，从student中继承。\n",
    "2.用你的名字实例化，并且初始化name和age。\n",
    "3.增加一个叫做birthday的方法，每次执行后，你的age会加一。\n",
    "\"\"\"\n",
    "class graduated(Student):\n",
    "    def birthday(self):\n",
    "        self.age+=1\n",
    "feng=graduated('fengyu',23)\n",
    "print_object(feng)\n",
    "feng.birthday()\n",
    "feng.study()\n",
    "print_object(feng)\n",
    "\n",
    "\n"
   ]
  }
 ],
 "metadata": {
  "interpreter": {
   "hash": "da9ccaf30b8f76f6ba9387769e0a5b8166bb243c2c98e845e33e1556a317dac0"
  },
  "kernelspec": {
   "display_name": "Python 3.9.5 64-bit ('base': conda)",
   "language": "python",
   "name": "python3"
  },
  "language_info": {
   "codemirror_mode": {
    "name": "ipython",
    "version": 3
   },
   "file_extension": ".py",
   "mimetype": "text/x-python",
   "name": "python",
   "nbconvert_exporter": "python",
   "pygments_lexer": "ipython3",
   "version": "3.9.5"
  },
  "orig_nbformat": 4
 },
 "nbformat": 4,
 "nbformat_minor": 2
}
