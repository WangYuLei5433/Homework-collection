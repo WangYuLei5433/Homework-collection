{
 "cells": [
  {
   "cell_type": "code",
   "execution_count": 2,
   "metadata": {},
   "outputs": [
    {
     "name": "stdout",
     "output_type": "stream",
     "text": [
      "1 2 3 4 5 6 7 8 9 10 "
     ]
    }
   ],
   "source": [
    "#用range输出1到10。\n",
    "for i in range(1,11):\n",
    "    print(i,end=\" \")\n"
   ]
  },
  {
   "cell_type": "code",
   "execution_count": 3,
   "metadata": {},
   "outputs": [
    {
     "name": "stdout",
     "output_type": "stream",
     "text": [
      "1 2 3 4 5 6 7 8 9 10 "
     ]
    }
   ],
   "source": [
    "#用for去输出这个list`[1, 2, 3, 4, 5]`里面的每个数。\n",
    "l1=[1,2,3,4,5,6,7,8,9,10]\n",
    "for i in l1:\n",
    "    print(i,end=\" \")\n"
   ]
  },
  {
   "cell_type": "code",
   "execution_count": 4,
   "metadata": {},
   "outputs": [
    {
     "name": "stdout",
     "output_type": "stream",
     "text": [
      "1 2 3 4 5 6 7 8 9 10 "
     ]
    }
   ],
   "source": [
    "#用iter去输出[1,2,3,4,5]。\n",
    "list_s=[1,2,3,4,5,6,7,8,9,10]\n",
    "it=iter(list_s)\n",
    "while True:\n",
    "    try:\n",
    "        print(next(it),end=\" \")\n",
    "    except StopIteration:\n",
    "        break"
   ]
  },
  {
   "cell_type": "code",
   "execution_count": 5,
   "metadata": {},
   "outputs": [
    {
     "data": {
      "text/plain": [
       "[(0, 1), (1, 2), (2, 3), (3, 4), (4, 5)]"
      ]
     },
     "execution_count": 5,
     "metadata": {},
     "output_type": "execute_result"
    }
   ],
   "source": [
    "#L = [1,2,3,4,5]`，用enumerate去输出序号和数字\n",
    "L=[1,2,3,4,5]\n",
    "list(enumerate(L))"
   ]
  },
  {
   "cell_type": "code",
   "execution_count": 6,
   "metadata": {},
   "outputs": [
    {
     "name": "stdout",
     "output_type": "stream",
     "text": [
      "[(1, 6), (2, 7), (3, 8), (4, 9), (5, 10)]\n"
     ]
    }
   ],
   "source": [
    "#使用zip函数，并列逐个输出这两个list中的每个元素 \n",
    "# `L1 = [1,2,3,4,5]` 及`L2 = [6,7,8,9,10]`\n",
    "L1=[1,2,3,4,5]\n",
    "L2=[6,7,8,9,10]\n",
    "zipL1L2=zip(L1,L2)\n",
    "print(list(zipL1L2))"
   ]
  },
  {
   "cell_type": "code",
   "execution_count": 7,
   "metadata": {},
   "outputs": [
    {
     "name": "stdout",
     "output_type": "stream",
     "text": [
      "1 3 5 7 "
     ]
    }
   ],
   "source": [
    "#通过修改fibonacci函数的生成器，写一个输出奇数的生成器\n",
    "def fibonacci(n):\n",
    "    a, counter = 0,0\n",
    "    while True: \n",
    "        if (counter > n):\n",
    "            return\n",
    "        if(a%2==1):\n",
    "            yield a\n",
    "        a+=1 \n",
    "        counter += 1\n",
    "f = fibonacci(8) \n",
    "while True: \n",
    "    try:\n",
    "        print (next(f), end=\" \") \n",
    "    except StopIteration:\n",
    "        break"
   ]
  },
  {
   "cell_type": "code",
   "execution_count": 8,
   "metadata": {},
   "outputs": [
    {
     "name": "stdout",
     "output_type": "stream",
     "text": [
      "THE KYOTO COLLEGE OF GRADUATE STUDIES FOR INFORMATICS\n",
      "the kyoto college of graduate studies for informatics\n",
      "The Kyoto College Of Graduate Studies For Informatics\n",
      "The kyoto college of graduate studies for informatics\n",
      "THE kYOTO cOLLEGE OF gRADUATE STUDIES FOR INFORMATICS\n"
     ]
    }
   ],
   "source": [
    "#目标字符串五种操作\n",
    "strA=\"the Kyoto College of Graduate studies for informatics\"\n",
    "print(strA.upper())\n",
    "print(strA.lower())\n",
    "print(strA.title())\n",
    "print(strA.capitalize())\n",
    "print(strA.swapcase())\n",
    "strA=strA.lower()\n"
   ]
  },
  {
   "cell_type": "code",
   "execution_count": 9,
   "metadata": {},
   "outputs": [
    {
     "name": "stdout",
     "output_type": "stream",
     "text": [
      "kyoto computer gakuin\n",
      "456\n"
     ]
    }
   ],
   "source": [
    "#用strip去除不必要的空格\n",
    "strB='          kyoto computer gakuin           '\n",
    "print(strB.strip(' '))\n",
    "#对以下字符串`00000456`去掉0\n",
    "strC='00000456'\n",
    "print(strC.strip('0'))"
   ]
  },
  {
   "cell_type": "code",
   "execution_count": 10,
   "metadata": {},
   "outputs": [
    {
     "name": "stdout",
     "output_type": "stream",
     "text": [
      "4\n",
      "4\n",
      "False\n",
      "False\n",
      "th-- kyoto coll--g-- of graduat-- studi--s for informatics\n"
     ]
    }
   ],
   "source": [
    "#字符串常用函数\n",
    "print(strA.find('kyoto'))\n",
    "print(strA.index('kyoto'))\n",
    "print(strA.startswith('kyoto'))\n",
    "print(strA.endswith('kyoto'))\n",
    "print(strA.replace('e','--'))\n"
   ]
  },
  {
   "cell_type": "code",
   "execution_count": 11,
   "metadata": {},
   "outputs": [
    {
     "name": "stdout",
     "output_type": "stream",
     "text": [
      "('the kyoto college of ', 'graduate', ' studies for informatics')\n"
     ]
    },
    {
     "data": {
      "text/plain": [
       "'He has 3 oranges.'"
      ]
     },
     "execution_count": 11,
     "metadata": {},
     "output_type": "execute_result"
    }
   ],
   "source": [
    "#字符串操作\n",
    "print(strA.partition('graduate'))\n",
    "string1=\"--\"\n",
    "string2= [\"a\", \"b\", \"c\"]\n",
    "string1.join(string2)\n",
    "string3='He has {b} oranges.'\n",
    "string3.format(b=3)\n"
   ]
  }
 ],
 "metadata": {
  "interpreter": {
   "hash": "da9ccaf30b8f76f6ba9387769e0a5b8166bb243c2c98e845e33e1556a317dac0"
  },
  "kernelspec": {
   "display_name": "Python 3.9.5 64-bit ('base': conda)",
   "name": "python3"
  },
  "language_info": {
   "codemirror_mode": {
    "name": "ipython",
    "version": 3
   },
   "file_extension": ".py",
   "mimetype": "text/x-python",
   "name": "python",
   "nbconvert_exporter": "python",
   "pygments_lexer": "ipython3",
   "version": "3.9.5"
  },
  "orig_nbformat": 4
 },
 "nbformat": 4,
 "nbformat_minor": 2
}
