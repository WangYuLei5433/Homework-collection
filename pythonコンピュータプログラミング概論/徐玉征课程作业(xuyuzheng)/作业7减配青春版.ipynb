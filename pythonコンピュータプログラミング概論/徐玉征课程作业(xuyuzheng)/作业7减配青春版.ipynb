{
 "cells": [
  {
   "cell_type": "code",
   "execution_count": 1,
   "metadata": {},
   "outputs": [],
   "source": [
    "import random,timeit\n",
    "import numpy as np\n",
    "import matplotlib.pyplot as plt\n",
    "\n",
    "#计数排序\n",
    "def count_sort(input_list):\n",
    "    length = len(input_list)\n",
    "    if length < 2:\n",
    "        return input_list\n",
    "    max_num = max(input_list)\n",
    "    count = [0] * (max_num + 1)\n",
    "    for element in input_list:\n",
    "        count[element] += 1\n",
    "    output_list = []\n",
    "    for i in range(max_num + 1):\n",
    "        for j in range(count[i]):  # count[i]表示元素i出现的次数，如果有多次，通过循环重复追加        \n",
    "            output_list.append(i)\n",
    "    return output_list\n",
    "\n",
    "#归并排序\n",
    "def mergeSort(arr):\n",
    "    import math\n",
    "    if(len(arr)<2):\n",
    "        return arr\n",
    "    middle = math.floor(len(arr)/2)\n",
    "    left, right = arr[0:middle], arr[middle:]\n",
    "    return merge(mergeSort(left), mergeSort(right))\n",
    "def merge(left,right):\n",
    "    result = []\n",
    "    while left and right:\n",
    "        if left[0] <= right[0]:\n",
    "            result.append(left.pop(0));\n",
    "        else:\n",
    "            result.append(right.pop(0));\n",
    "    while left:\n",
    "        result.append(left.pop(0));\n",
    "    while right:\n",
    "        result.append(right.pop(0));\n",
    "    return result\n",
    "\n",
    "#插入排序\n",
    "def insertionSort(arr):\n",
    "    for i in range(len(arr)):\n",
    "        preIndex = i-1\n",
    "        current = arr[i]\n",
    "        while preIndex >= 0 and arr[preIndex] > current:\n",
    "            arr[preIndex+1] = arr[preIndex]\n",
    "            preIndex-=1\n",
    "        arr[preIndex+1] = current\n",
    "    return arr\n",
    "\n",
    "#快速排序\n",
    "def quickSort(arr, left=None, right=None):\n",
    "    left = 0 if not isinstance(left,(int, float)) else left\n",
    "    right = len(arr)-1 if not isinstance(right,(int, float)) else right\n",
    "    if left < right:\n",
    "        partitionIndex = partition(arr, left, right)\n",
    "        quickSort(arr, left, partitionIndex-1)\n",
    "        quickSort(arr, partitionIndex+1, right)\n",
    "    return arr\n",
    "def partition(arr, left, right):\n",
    "    pivot = left\n",
    "    index = pivot+1\n",
    "    i = index\n",
    "    while  i <= right:\n",
    "        if arr[i] < arr[pivot]:\n",
    "            swap(arr, i, index)\n",
    "            index+=1\n",
    "        i+=1\n",
    "    swap(arr,pivot,index-1)\n",
    "    return index-1\n",
    "def swap(arr, i, j):\n",
    "    arr[i], arr[j] = arr[j], arr[i]\n",
    "\n",
    "#冒泡排序\n",
    "def bubbleSort(arr):\n",
    "    for i in range(1, len(arr)):\n",
    "        for j in range(0, len(arr)-i):\n",
    "            if arr[j] > arr[j+1]:\n",
    "                arr[j], arr[j + 1] = arr[j + 1], arr[j]\n",
    "\n",
    "#选择排序\n",
    "def pai_xu(list_date):\n",
    "    for i in range(len(list_date)): \n",
    "        Mini_mum = i \n",
    "        for j in range(i+1, len(list_date)): \n",
    "            if list_date[ Mini_mum] >list_date[j]: \n",
    "                 Mini_mum= j\n",
    "\n",
    "        list_date[i], list_date[Mini_mum] = list_date[Mini_mum], list_date[i] \n",
    "\n",
    "#将生成长度为quantity的一组随机数\n",
    "def test(left,right,quantity):\n",
    "    text_list=list(random.sample(range(left,right),quantity))\n",
    "    return text_list\n",
    "    \n",
    "#计算排序算法的时间\n",
    "def timerun(func,text):\n",
    "    start = timeit.default_timer()\n",
    "    func(text)\n",
    "    end=timeit.default_timer()\n",
    "    return(end-start)\n",
    "\n",
    "#统计算法运行时间。将计算结果x，y保存在数字组里\n",
    "def time_statistics(func,x):\n",
    "    timedate=list()\n",
    "    for i in range(2000,x+1,500):\n",
    "        textlist=test(1,i+2,i)\n",
    "        stat=timerun(func,textlist)\n",
    "        timedate.append([i,stat])\n",
    "    return np.array(timedate)\n",
    "\n",
    "\n",
    "#将排序数据量num，测试函数fun1代入直角坐标系。func2是拟合函数，并对散点进行函数拟合。\n",
    "def ceshifunction(func1,num):\n",
    "    ceshi=time_statistics(func1,num)\n",
    "    plt.scatter(*zip(*ceshi)) \n",
    "    plt.show()\n",
    "\n",
    "\n"
   ]
  },
  {
   "cell_type": "code",
   "execution_count": 2,
   "metadata": {},
   "outputs": [
    {
     "name": "stdout",
     "output_type": "stream",
     "text": [
      "插入排序 O(n^2)\n"
     ]
    },
    {
     "data": {
      "image/png": "[encoded data removed]",
      "text/plain": [
       "<Figure size 432x288 with 1 Axes>"
      ]
     },
     "metadata": {
      "needs_background": "light"
     },
     "output_type": "display_data"
    },
    {
     "name": "stdout",
     "output_type": "stream",
     "text": [
      "选择排序O(n^2)\n"
     ]
    },
    {
     "data": {
      "image/png": "[encoded data removed]",
      "text/plain": [
       "<Figure size 432x288 with 1 Axes>"
      ]
     },
     "metadata": {
      "needs_background": "light"
     },
     "output_type": "display_data"
    },
    {
     "name": "stdout",
     "output_type": "stream",
     "text": [
      "冒泡排序 O(n^2)\n"
     ]
    },
    {
     "data": {
      "image/png": "[encoded data removed]",
      "text/plain": [
       "<Figure size 432x288 with 1 Axes>"
      ]
     },
     "metadata": {
      "needs_background": "light"
     },
     "output_type": "display_data"
    },
    {
     "name": "stdout",
     "output_type": "stream",
     "text": [
      "快速排序 O(nlog(n))\n"
     ]
    },
    {
     "data": {
      "image/png": "[encoded data removed]",
      "text/plain": [
       "<Figure size 432x288 with 1 Axes>"
      ]
     },
     "metadata": {
      "needs_background": "light"
     },
     "output_type": "display_data"
    },
    {
     "name": "stdout",
     "output_type": "stream",
     "text": [
      "归并排序 O(nlog(n))\n"
     ]
    },
    {
     "data": {
      "image/png": "[encoded data removed]",
      "text/plain": [
       "<Figure size 432x288 with 1 Axes>"
      ]
     },
     "metadata": {
      "needs_background": "light"
     },
     "output_type": "display_data"
    },
    {
     "name": "stdout",
     "output_type": "stream",
     "text": [
      "计数排序 O(n+k)\n"
     ]
    },
    {
     "data": {
      "image/png": "[encoded data removed]",
      "text/plain": [
       "<Figure size 432x288 with 1 Axes>"
      ]
     },
     "metadata": {
      "needs_background": "light"
     },
     "output_type": "display_data"
    }
   ],
   "source": [
    "\n",
    "print(\"插入排序 O(n^2)\")\n",
    "ceshifunction(insertionSort,8000)\n",
    "\n",
    "print(\"选择排序O(n^2)\")\n",
    "ceshifunction(pai_xu,8000)\n",
    "\n",
    "print(\"冒泡排序 O(n^2)\")\n",
    "ceshifunction(bubbleSort,8000)\n",
    "\n",
    "print(\"快速排序 O(nlog(n))\")\n",
    "ceshifunction(quickSort,20000)\n",
    "\n",
    "print(\"归并排序 O(nlog(n))\") \n",
    "ceshifunction(mergeSort,20000)\n",
    "\n",
    "print(\"计数排序 O(n+k)\")\n",
    "ceshifunction(count_sort,50000)\n",
    "\n"
   ]
  },
  {
   "cell_type": "code",
   "execution_count": 5,
   "metadata": {},
   "outputs": [],
   "source": [
    "\n",
    "def timerun2(func,text):\n",
    "    start = timeit.default_timer()\n",
    "    func(text)\n",
    "    end=timeit.default_timer()\n",
    "    return(end-start)\n",
    "#for循环阶乘\n",
    "def Fact(x):\n",
    "    fact=1\n",
    "    for i in range(1,x+1):\n",
    "        fact*=i\n",
    "    return fact\n",
    "#递归阶乘\n",
    "def Fact_recursion(x):\n",
    "    if(x==1):\n",
    "        return 1\n",
    "    else:\n",
    "        return x*Fact_recursion(x-1)\n",
    "\n",
    "def timefunction(func,x):\n",
    "    timedate=list()\n",
    "    for i in range(10,x+1,2):\n",
    "        stat=timerun2(func,i)\n",
    "        timedate.append([i,stat])\n",
    "    return np.array(timedate)\n",
    "\n",
    "def ceshifunction2(func1,num):\n",
    "    ceshi=timefunction(func1,num)\n",
    "    plt.scatter(*zip(*ceshi)) \n",
    "    plt.show()"
   ]
  },
  {
   "cell_type": "code",
   "execution_count": 11,
   "metadata": {},
   "outputs": [
    {
     "name": "stdout",
     "output_type": "stream",
     "text": [
      "递归阶乘函数O(n)\n"
     ]
    },
    {
     "data": {
      "image/png": "[encoded data removed]",
      "text/plain": [
       "<Figure size 432x288 with 1 Axes>"
      ]
     },
     "metadata": {
      "needs_background": "light"
     },
     "output_type": "display_data"
    },
    {
     "name": "stdout",
     "output_type": "stream",
     "text": [
      "for循环阶乘函数O(n)\n"
     ]
    },
    {
     "data": {
      "image/png": "[encoded data removed]",
      "text/plain": [
       "<Figure size 432x288 with 1 Axes>"
      ]
     },
     "metadata": {
      "needs_background": "light"
     },
     "output_type": "display_data"
    }
   ],
   "source": [
    "\n",
    "print(\"递归阶乘函数O(n)\")\n",
    "ceshifunction2(Fact_recursion,80)\n",
    "\n",
    "print(\"for循环阶乘函数O(n)\")\n",
    "ceshifunction2(Fact,80)"
   ]
  }
 ],
 "metadata": {
  "interpreter": {
   "hash": "da9ccaf30b8f76f6ba9387769e0a5b8166bb243c2c98e845e33e1556a317dac0"
  },
  "kernelspec": {
   "display_name": "Python 3.9.5 64-bit ('base': conda)",
   "language": "python",
   "name": "python3"
  },
  "language_info": {
   "codemirror_mode": {
    "name": "ipython",
    "version": 3
   },
   "file_extension": ".py",
   "mimetype": "text/x-python",
   "name": "python",
   "nbconvert_exporter": "python",
   "pygments_lexer": "ipython3",
   "version": "3.9.5"
  },
  "orig_nbformat": 4
 },
 "nbformat": 4,
 "nbformat_minor": 2
}
